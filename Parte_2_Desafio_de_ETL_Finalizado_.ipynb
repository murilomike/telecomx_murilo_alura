{
  "nbformat": 4,
  "nbformat_minor": 0,
  "metadata": {
    "colab": {
      "provenance": []
    },
    "kernelspec": {
      "name": "python3",
      "display_name": "Python 3"
    },
    "language_info": {
      "name": "python"
    }
  },
  "cells": [
    {
      "cell_type": "markdown",
      "source": [
        "# Documentação do Challenge Telecom X por Murilo, estudante do curso de Ciência de Dados da Alura/Oracle."
      ],
      "metadata": {
        "id": "MqH6byhoNUhX"
      }
    },
    {
      "cell_type": "markdown",
      "source": [
        "📌 Extração"
      ],
      "metadata": {
        "id": "pKWDM608WcAK"
      }
    },
    {
      "cell_type": "code",
      "execution_count": 136,
      "metadata": {
        "id": "1wehFFpC93fe"
      },
      "outputs": [],
      "source": [
        "# Importação das bibliotecas\n",
        "import requests\n",
        "import pandas as pd\n",
        "import json"
      ]
    },
    {
      "cell_type": "code",
      "source": [
        "# importação da API\n",
        "\n",
        "with open('/content/TelecomX_Data.json', 'r') as file:\n",
        "    data = json.load(file)\n",
        "\n",
        "df = pd.DataFrame(data)\n"
      ],
      "metadata": {
        "id": "V3XUsa-v-ISp"
      },
      "execution_count": 137,
      "outputs": []
    },
    {
      "cell_type": "code",
      "source": [
        "# Expandindo as colunas aninhadas com o método pd series\n",
        "df_customer = df['customer'].apply(pd.Series)\n",
        "df_account = df['account'].apply(pd.Series)\n",
        "df_phone = df['phone'].apply(pd.Series)\n",
        "df_internet = df['internet'].apply(pd.Series)"
      ],
      "metadata": {
        "id": "jGSZsmYqi4_J"
      },
      "execution_count": 138,
      "outputs": []
    },
    {
      "cell_type": "markdown",
      "source": [
        "🔧 Transformação\n"
      ],
      "metadata": {
        "id": "Etrn-w9CWeBV"
      }
    },
    {
      "cell_type": "markdown",
      "source": [
        "Por padrão usarei df como nome principal da base."
      ],
      "metadata": {
        "id": "IOuloGx6bZjA"
      }
    },
    {
      "cell_type": "code",
      "source": [
        "df_customer.head()"
      ],
      "metadata": {
        "colab": {
          "base_uri": "https://localhost:8080/",
          "height": 206
        },
        "id": "mpqDZUO0jgF7",
        "outputId": "2a10712d-3df9-4291-d720-c6d1a2f556ad"
      },
      "execution_count": 146,
      "outputs": [
        {
          "output_type": "execute_result",
          "data": {
            "text/plain": [
              "   gender  SeniorCitizen Partner Dependents  tenure\n",
              "0  Female              0     Yes        Yes       9\n",
              "1    Male              0      No         No       9\n",
              "2    Male              0      No         No       4\n",
              "3    Male              1     Yes         No      13\n",
              "4  Female              1     Yes         No       3"
            ],
            "text/html": [
              "\n",
              "  <div id=\"df-ea569a91-a8a3-423b-afe2-5404a4aa07ee\" class=\"colab-df-container\">\n",
              "    <div>\n",
              "<style scoped>\n",
              "    .dataframe tbody tr th:only-of-type {\n",
              "        vertical-align: middle;\n",
              "    }\n",
              "\n",
              "    .dataframe tbody tr th {\n",
              "        vertical-align: top;\n",
              "    }\n",
              "\n",
              "    .dataframe thead th {\n",
              "        text-align: right;\n",
              "    }\n",
              "</style>\n",
              "<table border=\"1\" class=\"dataframe\">\n",
              "  <thead>\n",
              "    <tr style=\"text-align: right;\">\n",
              "      <th></th>\n",
              "      <th>gender</th>\n",
              "      <th>SeniorCitizen</th>\n",
              "      <th>Partner</th>\n",
              "      <th>Dependents</th>\n",
              "      <th>tenure</th>\n",
              "    </tr>\n",
              "  </thead>\n",
              "  <tbody>\n",
              "    <tr>\n",
              "      <th>0</th>\n",
              "      <td>Female</td>\n",
              "      <td>0</td>\n",
              "      <td>Yes</td>\n",
              "      <td>Yes</td>\n",
              "      <td>9</td>\n",
              "    </tr>\n",
              "    <tr>\n",
              "      <th>1</th>\n",
              "      <td>Male</td>\n",
              "      <td>0</td>\n",
              "      <td>No</td>\n",
              "      <td>No</td>\n",
              "      <td>9</td>\n",
              "    </tr>\n",
              "    <tr>\n",
              "      <th>2</th>\n",
              "      <td>Male</td>\n",
              "      <td>0</td>\n",
              "      <td>No</td>\n",
              "      <td>No</td>\n",
              "      <td>4</td>\n",
              "    </tr>\n",
              "    <tr>\n",
              "      <th>3</th>\n",
              "      <td>Male</td>\n",
              "      <td>1</td>\n",
              "      <td>Yes</td>\n",
              "      <td>No</td>\n",
              "      <td>13</td>\n",
              "    </tr>\n",
              "    <tr>\n",
              "      <th>4</th>\n",
              "      <td>Female</td>\n",
              "      <td>1</td>\n",
              "      <td>Yes</td>\n",
              "      <td>No</td>\n",
              "      <td>3</td>\n",
              "    </tr>\n",
              "  </tbody>\n",
              "</table>\n",
              "</div>\n",
              "    <div class=\"colab-df-buttons\">\n",
              "\n",
              "  <div class=\"colab-df-container\">\n",
              "    <button class=\"colab-df-convert\" onclick=\"convertToInteractive('df-ea569a91-a8a3-423b-afe2-5404a4aa07ee')\"\n",
              "            title=\"Convert this dataframe to an interactive table.\"\n",
              "            style=\"display:none;\">\n",
              "\n",
              "  <svg xmlns=\"http://www.w3.org/2000/svg\" height=\"24px\" viewBox=\"0 -960 960 960\">\n",
              "    <path d=\"M120-120v-720h720v720H120Zm60-500h600v-160H180v160Zm220 220h160v-160H400v160Zm0 220h160v-160H400v160ZM180-400h160v-160H180v160Zm440 0h160v-160H620v160ZM180-180h160v-160H180v160Zm440 0h160v-160H620v160Z\"/>\n",
              "  </svg>\n",
              "    </button>\n",
              "\n",
              "  <style>\n",
              "    .colab-df-container {\n",
              "      display:flex;\n",
              "      gap: 12px;\n",
              "    }\n",
              "\n",
              "    .colab-df-convert {\n",
              "      background-color: #E8F0FE;\n",
              "      border: none;\n",
              "      border-radius: 50%;\n",
              "      cursor: pointer;\n",
              "      display: none;\n",
              "      fill: #1967D2;\n",
              "      height: 32px;\n",
              "      padding: 0 0 0 0;\n",
              "      width: 32px;\n",
              "    }\n",
              "\n",
              "    .colab-df-convert:hover {\n",
              "      background-color: #E2EBFA;\n",
              "      box-shadow: 0px 1px 2px rgba(60, 64, 67, 0.3), 0px 1px 3px 1px rgba(60, 64, 67, 0.15);\n",
              "      fill: #174EA6;\n",
              "    }\n",
              "\n",
              "    .colab-df-buttons div {\n",
              "      margin-bottom: 4px;\n",
              "    }\n",
              "\n",
              "    [theme=dark] .colab-df-convert {\n",
              "      background-color: #3B4455;\n",
              "      fill: #D2E3FC;\n",
              "    }\n",
              "\n",
              "    [theme=dark] .colab-df-convert:hover {\n",
              "      background-color: #434B5C;\n",
              "      box-shadow: 0px 1px 3px 1px rgba(0, 0, 0, 0.15);\n",
              "      filter: drop-shadow(0px 1px 2px rgba(0, 0, 0, 0.3));\n",
              "      fill: #FFFFFF;\n",
              "    }\n",
              "  </style>\n",
              "\n",
              "    <script>\n",
              "      const buttonEl =\n",
              "        document.querySelector('#df-ea569a91-a8a3-423b-afe2-5404a4aa07ee button.colab-df-convert');\n",
              "      buttonEl.style.display =\n",
              "        google.colab.kernel.accessAllowed ? 'block' : 'none';\n",
              "\n",
              "      async function convertToInteractive(key) {\n",
              "        const element = document.querySelector('#df-ea569a91-a8a3-423b-afe2-5404a4aa07ee');\n",
              "        const dataTable =\n",
              "          await google.colab.kernel.invokeFunction('convertToInteractive',\n",
              "                                                    [key], {});\n",
              "        if (!dataTable) return;\n",
              "\n",
              "        const docLinkHtml = 'Like what you see? Visit the ' +\n",
              "          '<a target=\"_blank\" href=https://colab.research.google.com/notebooks/data_table.ipynb>data table notebook</a>'\n",
              "          + ' to learn more about interactive tables.';\n",
              "        element.innerHTML = '';\n",
              "        dataTable['output_type'] = 'display_data';\n",
              "        await google.colab.output.renderOutput(dataTable, element);\n",
              "        const docLink = document.createElement('div');\n",
              "        docLink.innerHTML = docLinkHtml;\n",
              "        element.appendChild(docLink);\n",
              "      }\n",
              "    </script>\n",
              "  </div>\n",
              "\n",
              "\n",
              "    <div id=\"df-18ff95ce-72f4-4c18-bf33-44f5c3ea9251\">\n",
              "      <button class=\"colab-df-quickchart\" onclick=\"quickchart('df-18ff95ce-72f4-4c18-bf33-44f5c3ea9251')\"\n",
              "                title=\"Suggest charts\"\n",
              "                style=\"display:none;\">\n",
              "\n",
              "<svg xmlns=\"http://www.w3.org/2000/svg\" height=\"24px\"viewBox=\"0 0 24 24\"\n",
              "     width=\"24px\">\n",
              "    <g>\n",
              "        <path d=\"M19 3H5c-1.1 0-2 .9-2 2v14c0 1.1.9 2 2 2h14c1.1 0 2-.9 2-2V5c0-1.1-.9-2-2-2zM9 17H7v-7h2v7zm4 0h-2V7h2v10zm4 0h-2v-4h2v4z\"/>\n",
              "    </g>\n",
              "</svg>\n",
              "      </button>\n",
              "\n",
              "<style>\n",
              "  .colab-df-quickchart {\n",
              "      --bg-color: #E8F0FE;\n",
              "      --fill-color: #1967D2;\n",
              "      --hover-bg-color: #E2EBFA;\n",
              "      --hover-fill-color: #174EA6;\n",
              "      --disabled-fill-color: #AAA;\n",
              "      --disabled-bg-color: #DDD;\n",
              "  }\n",
              "\n",
              "  [theme=dark] .colab-df-quickchart {\n",
              "      --bg-color: #3B4455;\n",
              "      --fill-color: #D2E3FC;\n",
              "      --hover-bg-color: #434B5C;\n",
              "      --hover-fill-color: #FFFFFF;\n",
              "      --disabled-bg-color: #3B4455;\n",
              "      --disabled-fill-color: #666;\n",
              "  }\n",
              "\n",
              "  .colab-df-quickchart {\n",
              "    background-color: var(--bg-color);\n",
              "    border: none;\n",
              "    border-radius: 50%;\n",
              "    cursor: pointer;\n",
              "    display: none;\n",
              "    fill: var(--fill-color);\n",
              "    height: 32px;\n",
              "    padding: 0;\n",
              "    width: 32px;\n",
              "  }\n",
              "\n",
              "  .colab-df-quickchart:hover {\n",
              "    background-color: var(--hover-bg-color);\n",
              "    box-shadow: 0 1px 2px rgba(60, 64, 67, 0.3), 0 1px 3px 1px rgba(60, 64, 67, 0.15);\n",
              "    fill: var(--button-hover-fill-color);\n",
              "  }\n",
              "\n",
              "  .colab-df-quickchart-complete:disabled,\n",
              "  .colab-df-quickchart-complete:disabled:hover {\n",
              "    background-color: var(--disabled-bg-color);\n",
              "    fill: var(--disabled-fill-color);\n",
              "    box-shadow: none;\n",
              "  }\n",
              "\n",
              "  .colab-df-spinner {\n",
              "    border: 2px solid var(--fill-color);\n",
              "    border-color: transparent;\n",
              "    border-bottom-color: var(--fill-color);\n",
              "    animation:\n",
              "      spin 1s steps(1) infinite;\n",
              "  }\n",
              "\n",
              "  @keyframes spin {\n",
              "    0% {\n",
              "      border-color: transparent;\n",
              "      border-bottom-color: var(--fill-color);\n",
              "      border-left-color: var(--fill-color);\n",
              "    }\n",
              "    20% {\n",
              "      border-color: transparent;\n",
              "      border-left-color: var(--fill-color);\n",
              "      border-top-color: var(--fill-color);\n",
              "    }\n",
              "    30% {\n",
              "      border-color: transparent;\n",
              "      border-left-color: var(--fill-color);\n",
              "      border-top-color: var(--fill-color);\n",
              "      border-right-color: var(--fill-color);\n",
              "    }\n",
              "    40% {\n",
              "      border-color: transparent;\n",
              "      border-right-color: var(--fill-color);\n",
              "      border-top-color: var(--fill-color);\n",
              "    }\n",
              "    60% {\n",
              "      border-color: transparent;\n",
              "      border-right-color: var(--fill-color);\n",
              "    }\n",
              "    80% {\n",
              "      border-color: transparent;\n",
              "      border-right-color: var(--fill-color);\n",
              "      border-bottom-color: var(--fill-color);\n",
              "    }\n",
              "    90% {\n",
              "      border-color: transparent;\n",
              "      border-bottom-color: var(--fill-color);\n",
              "    }\n",
              "  }\n",
              "</style>\n",
              "\n",
              "      <script>\n",
              "        async function quickchart(key) {\n",
              "          const quickchartButtonEl =\n",
              "            document.querySelector('#' + key + ' button');\n",
              "          quickchartButtonEl.disabled = true;  // To prevent multiple clicks.\n",
              "          quickchartButtonEl.classList.add('colab-df-spinner');\n",
              "          try {\n",
              "            const charts = await google.colab.kernel.invokeFunction(\n",
              "                'suggestCharts', [key], {});\n",
              "          } catch (error) {\n",
              "            console.error('Error during call to suggestCharts:', error);\n",
              "          }\n",
              "          quickchartButtonEl.classList.remove('colab-df-spinner');\n",
              "          quickchartButtonEl.classList.add('colab-df-quickchart-complete');\n",
              "        }\n",
              "        (() => {\n",
              "          let quickchartButtonEl =\n",
              "            document.querySelector('#df-18ff95ce-72f4-4c18-bf33-44f5c3ea9251 button');\n",
              "          quickchartButtonEl.style.display =\n",
              "            google.colab.kernel.accessAllowed ? 'block' : 'none';\n",
              "        })();\n",
              "      </script>\n",
              "    </div>\n",
              "\n",
              "    </div>\n",
              "  </div>\n"
            ],
            "application/vnd.google.colaboratory.intrinsic+json": {
              "type": "dataframe",
              "variable_name": "df_customer",
              "summary": "{\n  \"name\": \"df_customer\",\n  \"rows\": 7267,\n  \"fields\": [\n    {\n      \"column\": \"gender\",\n      \"properties\": {\n        \"dtype\": \"category\",\n        \"num_unique_values\": 2,\n        \"samples\": [\n          \"Male\",\n          \"Female\"\n        ],\n        \"semantic_type\": \"\",\n        \"description\": \"\"\n      }\n    },\n    {\n      \"column\": \"SeniorCitizen\",\n      \"properties\": {\n        \"dtype\": \"number\",\n        \"std\": 0,\n        \"min\": 0,\n        \"max\": 1,\n        \"num_unique_values\": 2,\n        \"samples\": [\n          1,\n          0\n        ],\n        \"semantic_type\": \"\",\n        \"description\": \"\"\n      }\n    },\n    {\n      \"column\": \"Partner\",\n      \"properties\": {\n        \"dtype\": \"category\",\n        \"num_unique_values\": 2,\n        \"samples\": [\n          \"No\",\n          \"Yes\"\n        ],\n        \"semantic_type\": \"\",\n        \"description\": \"\"\n      }\n    },\n    {\n      \"column\": \"Dependents\",\n      \"properties\": {\n        \"dtype\": \"category\",\n        \"num_unique_values\": 2,\n        \"samples\": [\n          \"No\",\n          \"Yes\"\n        ],\n        \"semantic_type\": \"\",\n        \"description\": \"\"\n      }\n    },\n    {\n      \"column\": \"tenure\",\n      \"properties\": {\n        \"dtype\": \"number\",\n        \"std\": 24,\n        \"min\": 0,\n        \"max\": 72,\n        \"num_unique_values\": 73,\n        \"samples\": [\n          71,\n          53\n        ],\n        \"semantic_type\": \"\",\n        \"description\": \"\"\n      }\n    }\n  ]\n}"
            }
          },
          "metadata": {},
          "execution_count": 146
        }
      ]
    },
    {
      "cell_type": "code",
      "source": [
        "print(df_customer.dtypes)\n",
        "print(df_account.dtypes)\n",
        "print(df_phone.dtypes)\n",
        "print(df_internet.dtypes)"
      ],
      "metadata": {
        "colab": {
          "base_uri": "https://localhost:8080/"
        },
        "id": "jqbJkBGAl29u",
        "outputId": "4ba5f492-5c60-4dbe-f2f5-db044d07c2a4"
      },
      "execution_count": 147,
      "outputs": [
        {
          "output_type": "stream",
          "name": "stdout",
          "text": [
            "gender           object\n",
            "SeniorCitizen     int64\n",
            "Partner          object\n",
            "Dependents       object\n",
            "tenure            int64\n",
            "dtype: object\n",
            "Contract            object\n",
            "PaperlessBilling    object\n",
            "PaymentMethod       object\n",
            "Charges             object\n",
            "dtype: object\n",
            "PhoneService     object\n",
            "MultipleLines    object\n",
            "dtype: object\n",
            "InternetService     object\n",
            "OnlineSecurity      object\n",
            "OnlineBackup        object\n",
            "DeviceProtection    object\n",
            "TechSupport         object\n",
            "StreamingTV         object\n",
            "StreamingMovies     object\n",
            "dtype: object\n"
          ]
        }
      ]
    },
    {
      "cell_type": "code",
      "source": [
        "df_full = pd.concat([df_customer, df_account, df_phone, df_internet], axis=1)"
      ],
      "metadata": {
        "id": "cIdecOAZk456"
      },
      "execution_count": 148,
      "outputs": []
    },
    {
      "cell_type": "code",
      "source": [
        "df_full.columns\n"
      ],
      "metadata": {
        "colab": {
          "base_uri": "https://localhost:8080/"
        },
        "id": "GXAer9YEmrCM",
        "outputId": "193c2afc-c61c-40ba-c5fc-92166d925234"
      },
      "execution_count": 149,
      "outputs": [
        {
          "output_type": "execute_result",
          "data": {
            "text/plain": [
              "Index(['gender', 'SeniorCitizen', 'Partner', 'Dependents', 'tenure',\n",
              "       'Contract', 'PaperlessBilling', 'PaymentMethod', 'Charges',\n",
              "       'PhoneService', 'MultipleLines', 'InternetService', 'OnlineSecurity',\n",
              "       'OnlineBackup', 'DeviceProtection', 'TechSupport', 'StreamingTV',\n",
              "       'StreamingMovies'],\n",
              "      dtype='object')"
            ]
          },
          "metadata": {},
          "execution_count": 149
        }
      ]
    },
    {
      "cell_type": "code",
      "source": [
        "df['Churn']"
      ],
      "metadata": {
        "colab": {
          "base_uri": "https://localhost:8080/",
          "height": 458
        },
        "id": "WyyQPpZhpmMI",
        "outputId": "a7bec168-c8b2-4e19-eba1-0a92d708b54a"
      },
      "execution_count": 152,
      "outputs": [
        {
          "output_type": "execute_result",
          "data": {
            "text/plain": [
              "0        No\n",
              "1        No\n",
              "2       Yes\n",
              "3       Yes\n",
              "4       Yes\n",
              "       ... \n",
              "7262     No\n",
              "7263    Yes\n",
              "7264     No\n",
              "7265     No\n",
              "7266     No\n",
              "Name: Churn, Length: 7267, dtype: object"
            ],
            "text/html": [
              "<div>\n",
              "<style scoped>\n",
              "    .dataframe tbody tr th:only-of-type {\n",
              "        vertical-align: middle;\n",
              "    }\n",
              "\n",
              "    .dataframe tbody tr th {\n",
              "        vertical-align: top;\n",
              "    }\n",
              "\n",
              "    .dataframe thead th {\n",
              "        text-align: right;\n",
              "    }\n",
              "</style>\n",
              "<table border=\"1\" class=\"dataframe\">\n",
              "  <thead>\n",
              "    <tr style=\"text-align: right;\">\n",
              "      <th></th>\n",
              "      <th>Churn</th>\n",
              "    </tr>\n",
              "  </thead>\n",
              "  <tbody>\n",
              "    <tr>\n",
              "      <th>0</th>\n",
              "      <td>No</td>\n",
              "    </tr>\n",
              "    <tr>\n",
              "      <th>1</th>\n",
              "      <td>No</td>\n",
              "    </tr>\n",
              "    <tr>\n",
              "      <th>2</th>\n",
              "      <td>Yes</td>\n",
              "    </tr>\n",
              "    <tr>\n",
              "      <th>3</th>\n",
              "      <td>Yes</td>\n",
              "    </tr>\n",
              "    <tr>\n",
              "      <th>4</th>\n",
              "      <td>Yes</td>\n",
              "    </tr>\n",
              "    <tr>\n",
              "      <th>...</th>\n",
              "      <td>...</td>\n",
              "    </tr>\n",
              "    <tr>\n",
              "      <th>7262</th>\n",
              "      <td>No</td>\n",
              "    </tr>\n",
              "    <tr>\n",
              "      <th>7263</th>\n",
              "      <td>Yes</td>\n",
              "    </tr>\n",
              "    <tr>\n",
              "      <th>7264</th>\n",
              "      <td>No</td>\n",
              "    </tr>\n",
              "    <tr>\n",
              "      <th>7265</th>\n",
              "      <td>No</td>\n",
              "    </tr>\n",
              "    <tr>\n",
              "      <th>7266</th>\n",
              "      <td>No</td>\n",
              "    </tr>\n",
              "  </tbody>\n",
              "</table>\n",
              "<p>7267 rows × 1 columns</p>\n",
              "</div><br><label><b>dtype:</b> object</label>"
            ]
          },
          "metadata": {},
          "execution_count": 152
        }
      ]
    },
    {
      "cell_type": "code",
      "source": [
        "df_full.isnull().sum()"
      ],
      "metadata": {
        "colab": {
          "base_uri": "https://localhost:8080/",
          "height": 649
        },
        "id": "AdHEakx6pzyF",
        "outputId": "dff4644e-bc06-4a06-cb91-cb132e06fd02"
      },
      "execution_count": 153,
      "outputs": [
        {
          "output_type": "execute_result",
          "data": {
            "text/plain": [
              "gender              0\n",
              "SeniorCitizen       0\n",
              "Partner             0\n",
              "Dependents          0\n",
              "tenure              0\n",
              "Contract            0\n",
              "PaperlessBilling    0\n",
              "PaymentMethod       0\n",
              "Charges             0\n",
              "PhoneService        0\n",
              "MultipleLines       0\n",
              "InternetService     0\n",
              "OnlineSecurity      0\n",
              "OnlineBackup        0\n",
              "DeviceProtection    0\n",
              "TechSupport         0\n",
              "StreamingTV         0\n",
              "StreamingMovies     0\n",
              "dtype: int64"
            ],
            "text/html": [
              "<div>\n",
              "<style scoped>\n",
              "    .dataframe tbody tr th:only-of-type {\n",
              "        vertical-align: middle;\n",
              "    }\n",
              "\n",
              "    .dataframe tbody tr th {\n",
              "        vertical-align: top;\n",
              "    }\n",
              "\n",
              "    .dataframe thead th {\n",
              "        text-align: right;\n",
              "    }\n",
              "</style>\n",
              "<table border=\"1\" class=\"dataframe\">\n",
              "  <thead>\n",
              "    <tr style=\"text-align: right;\">\n",
              "      <th></th>\n",
              "      <th>0</th>\n",
              "    </tr>\n",
              "  </thead>\n",
              "  <tbody>\n",
              "    <tr>\n",
              "      <th>gender</th>\n",
              "      <td>0</td>\n",
              "    </tr>\n",
              "    <tr>\n",
              "      <th>SeniorCitizen</th>\n",
              "      <td>0</td>\n",
              "    </tr>\n",
              "    <tr>\n",
              "      <th>Partner</th>\n",
              "      <td>0</td>\n",
              "    </tr>\n",
              "    <tr>\n",
              "      <th>Dependents</th>\n",
              "      <td>0</td>\n",
              "    </tr>\n",
              "    <tr>\n",
              "      <th>tenure</th>\n",
              "      <td>0</td>\n",
              "    </tr>\n",
              "    <tr>\n",
              "      <th>Contract</th>\n",
              "      <td>0</td>\n",
              "    </tr>\n",
              "    <tr>\n",
              "      <th>PaperlessBilling</th>\n",
              "      <td>0</td>\n",
              "    </tr>\n",
              "    <tr>\n",
              "      <th>PaymentMethod</th>\n",
              "      <td>0</td>\n",
              "    </tr>\n",
              "    <tr>\n",
              "      <th>Charges</th>\n",
              "      <td>0</td>\n",
              "    </tr>\n",
              "    <tr>\n",
              "      <th>PhoneService</th>\n",
              "      <td>0</td>\n",
              "    </tr>\n",
              "    <tr>\n",
              "      <th>MultipleLines</th>\n",
              "      <td>0</td>\n",
              "    </tr>\n",
              "    <tr>\n",
              "      <th>InternetService</th>\n",
              "      <td>0</td>\n",
              "    </tr>\n",
              "    <tr>\n",
              "      <th>OnlineSecurity</th>\n",
              "      <td>0</td>\n",
              "    </tr>\n",
              "    <tr>\n",
              "      <th>OnlineBackup</th>\n",
              "      <td>0</td>\n",
              "    </tr>\n",
              "    <tr>\n",
              "      <th>DeviceProtection</th>\n",
              "      <td>0</td>\n",
              "    </tr>\n",
              "    <tr>\n",
              "      <th>TechSupport</th>\n",
              "      <td>0</td>\n",
              "    </tr>\n",
              "    <tr>\n",
              "      <th>StreamingTV</th>\n",
              "      <td>0</td>\n",
              "    </tr>\n",
              "    <tr>\n",
              "      <th>StreamingMovies</th>\n",
              "      <td>0</td>\n",
              "    </tr>\n",
              "  </tbody>\n",
              "</table>\n",
              "</div><br><label><b>dtype:</b> int64</label>"
            ]
          },
          "metadata": {},
          "execution_count": 153
        }
      ]
    },
    {
      "cell_type": "code",
      "source": [
        "df_full.dropna(inplace=True)\n"
      ],
      "metadata": {
        "id": "wzUnajbfrmFc"
      },
      "execution_count": 159,
      "outputs": []
    },
    {
      "cell_type": "code",
      "source": [
        "df_charges = df_account['Charges'].apply(pd.Series)\n"
      ],
      "metadata": {
        "id": "-q6P5dGvryFN"
      },
      "execution_count": 161,
      "outputs": []
    },
    {
      "cell_type": "code",
      "source": [
        "df_charges.rename(columns={'Monthly': 'Charges.Monthly', 'Total': 'Charges.Total'}, inplace=True)\n"
      ],
      "metadata": {
        "id": "QIgFrWj3r0fi"
      },
      "execution_count": 162,
      "outputs": []
    },
    {
      "cell_type": "code",
      "source": [
        "df_account = pd.concat([df_account.drop(columns=['Charges']), df_charges], axis=1)\n"
      ],
      "metadata": {
        "id": "HoNC_HUhr2EY"
      },
      "execution_count": 163,
      "outputs": []
    },
    {
      "cell_type": "code",
      "source": [
        "df_full = pd.concat([df[['customerID', 'Churn']], df_customer, df_account, df_phone, df_internet], axis=1)\n"
      ],
      "metadata": {
        "id": "W_rUjyvGr3l4"
      },
      "execution_count": 164,
      "outputs": []
    },
    {
      "cell_type": "code",
      "source": [
        "df_full.columns\n"
      ],
      "metadata": {
        "colab": {
          "base_uri": "https://localhost:8080/"
        },
        "id": "Dye_STnlr8xK",
        "outputId": "3022450e-e8f7-459c-df21-1f61ea7cca80"
      },
      "execution_count": 167,
      "outputs": [
        {
          "output_type": "execute_result",
          "data": {
            "text/plain": [
              "Index(['customerID', 'Churn', 'gender', 'SeniorCitizen', 'Partner',\n",
              "       'Dependents', 'tenure', 'Contract', 'PaperlessBilling', 'PaymentMethod',\n",
              "       'Charges.Monthly', 'Charges.Total', 'PhoneService', 'MultipleLines',\n",
              "       'InternetService', 'OnlineSecurity', 'OnlineBackup', 'DeviceProtection',\n",
              "       'TechSupport', 'StreamingTV', 'StreamingMovies'],\n",
              "      dtype='object')"
            ]
          },
          "metadata": {},
          "execution_count": 167
        }
      ]
    },
    {
      "cell_type": "code",
      "source": [
        "df_full = df_full.applymap(lambda x: x.strip() if isinstance(x, str) else x)\n"
      ],
      "metadata": {
        "id": "RyT0J4yVsVhX"
      },
      "execution_count": 168,
      "outputs": []
    },
    {
      "cell_type": "code",
      "source": [
        "df_full.duplicated().sum()\n"
      ],
      "metadata": {
        "colab": {
          "base_uri": "https://localhost:8080/"
        },
        "id": "uCEixDCHsXrU",
        "outputId": "f66f13eb-329c-4df5-d821-f8f4e33b8ad9"
      },
      "execution_count": 169,
      "outputs": [
        {
          "output_type": "execute_result",
          "data": {
            "text/plain": [
              "np.int64(0)"
            ]
          },
          "metadata": {},
          "execution_count": 169
        }
      ]
    },
    {
      "cell_type": "code",
      "source": [
        "df_full.drop_duplicates(inplace=True)\n"
      ],
      "metadata": {
        "id": "36vcKJyssZVl"
      },
      "execution_count": 170,
      "outputs": []
    },
    {
      "cell_type": "code",
      "source": [
        "for col in df_full.select_dtypes(include='object').columns:\n",
        "    print(f\"{col}: {df_full[col].unique()}\")\n"
      ],
      "metadata": {
        "colab": {
          "base_uri": "https://localhost:8080/"
        },
        "id": "jIF5Tvdusc5j",
        "outputId": "bb27c87d-f4ba-4df4-f0fc-39ae890e1e90"
      },
      "execution_count": 171,
      "outputs": [
        {
          "output_type": "stream",
          "name": "stdout",
          "text": [
            "customerID: ['0002-ORFBO' '0003-MKNFE' '0004-TLHLJ' ... '9992-UJOEL' '9993-LHIEB'\n",
            " '9995-HOTOH']\n",
            "Churn: ['No' 'Yes' '']\n",
            "gender: ['Female' 'Male']\n",
            "Partner: ['Yes' 'No']\n",
            "Dependents: ['Yes' 'No']\n",
            "Contract: ['One year' 'Month-to-month' 'Two year']\n",
            "PaperlessBilling: ['Yes' 'No']\n",
            "PaymentMethod: ['Mailed check' 'Electronic check' 'Credit card (automatic)'\n",
            " 'Bank transfer (automatic)']\n",
            "Charges.Total: ['593.3' '542.4' '280.85' ... '742.9' '4627.65' '3707.6']\n",
            "PhoneService: ['Yes' 'No']\n",
            "MultipleLines: ['No' 'Yes' 'No phone service']\n",
            "InternetService: ['DSL' 'Fiber optic' 'No']\n",
            "OnlineSecurity: ['No' 'Yes' 'No internet service']\n",
            "OnlineBackup: ['Yes' 'No' 'No internet service']\n",
            "DeviceProtection: ['No' 'Yes' 'No internet service']\n",
            "TechSupport: ['Yes' 'No' 'No internet service']\n",
            "StreamingTV: ['Yes' 'No' 'No internet service']\n",
            "StreamingMovies: ['No' 'Yes' 'No internet service']\n"
          ]
        }
      ]
    },
    {
      "cell_type": "code",
      "source": [
        "df_full['Churn'] = df_full['Churn'].str.capitalize()\n"
      ],
      "metadata": {
        "id": "IRBR8Pyxsfnu"
      },
      "execution_count": 172,
      "outputs": []
    },
    {
      "cell_type": "code",
      "source": [
        "def preparar_dataframe_completo(df):\n",
        "    # Expandir sub-blocos do JSON\n",
        "    df_customer = df['customer'].apply(pd.Series)\n",
        "    df_account = df['account'].apply(pd.Series)\n",
        "    df_phone = df['phone'].apply(pd.Series)\n",
        "    df_internet = df['internet'].apply(pd.Series)\n",
        "\n",
        "    # Expandir os campos internos da coluna Charges\n",
        "    df_charges = df_account['Charges'].apply(pd.Series)\n",
        "    df_charges.rename(columns={'Monthly': 'Charges.Monthly', 'Total': 'Charges.Total'}, inplace=True)\n",
        "\n",
        "    # Atualizar df_account sem a coluna antiga\n",
        "    df_account = pd.concat([df_account.drop(columns=['Charges']), df_charges], axis=1)\n",
        "\n",
        "    # Juntar todas as partes no DataFrame final\n",
        "    df_full = pd.concat([\n",
        "        df[['customerID', 'Churn']],  # Dados de identificação e variável alvo\n",
        "        df_customer,\n",
        "        df_account,\n",
        "        df_phone,\n",
        "        df_internet\n",
        "    ], axis=1)\n",
        "\n",
        "    # Limpeza de texto\n",
        "    df_full = df_full.applymap(lambda x: x.strip() if isinstance(x, str) else x)\n",
        "\n",
        "    # Remover duplicatas\n",
        "    df_full.drop_duplicates(inplace=True)\n",
        "\n",
        "    return df_full\n"
      ],
      "metadata": {
        "id": "fH4WLzw5sodL"
      },
      "execution_count": 173,
      "outputs": []
    },
    {
      "cell_type": "markdown",
      "source": [
        "FAZENDO A ANÁLISE DAS CONTAS DIÁRIAS\n",
        "\n",
        "Clientes que pagam pouco por dia e mesmo assim desistem;\n",
        "\n",
        "Perfis que investem alto diariamente, mas podem estar insatisfeitos."
      ],
      "metadata": {
        "id": "MAOIkhsttHqV"
      }
    },
    {
      "cell_type": "code",
      "source": [
        "df_full['Contas_Diarias'] = df_full['Charges.Monthly'] / 30"
      ],
      "metadata": {
        "id": "F42WsK76s2xs"
      },
      "execution_count": 174,
      "outputs": []
    },
    {
      "cell_type": "code",
      "source": [
        "df_full['Contas_Diarias'] = df_full['Contas_Diarias'].round(2)\n"
      ],
      "metadata": {
        "id": "mRRUEHM6tOrN"
      },
      "execution_count": 175,
      "outputs": []
    },
    {
      "cell_type": "code",
      "source": [
        "binarias = [\n",
        "    'Churn', 'Partner', 'Dependents', 'PhoneService', 'PaperlessBilling',\n",
        "    'OnlineSecurity', 'OnlineBackup', 'DeviceProtection', 'TechSupport',\n",
        "    'StreamingTV', 'StreamingMovies', 'MultipleLines'\n",
        "]\n",
        "\n",
        "for col in binarias:\n",
        "    df_full[col] = df_full[col].map({'Yes': 1, 'No': 0})\n"
      ],
      "metadata": {
        "id": "Pqh2Kan6tlzW"
      },
      "execution_count": 176,
      "outputs": []
    },
    {
      "cell_type": "code",
      "source": [
        "df_full['gender'] = df_full['gender'].map({'Female': 1, 'Male': 0})\n"
      ],
      "metadata": {
        "id": "KH_A4VtXtntc"
      },
      "execution_count": 177,
      "outputs": []
    },
    {
      "cell_type": "code",
      "source": [
        "df_full['SeniorCitizen'] = df_full['SeniorCitizen'].astype(int)\n"
      ],
      "metadata": {
        "id": "pDZrO9t4tphw"
      },
      "execution_count": 178,
      "outputs": []
    },
    {
      "cell_type": "code",
      "source": [
        "df_full = pd.get_dummies(df_full, columns=['Contract', 'PaymentMethod', 'InternetService'], drop_first=True)\n"
      ],
      "metadata": {
        "id": "0mSbkwjZtrrw"
      },
      "execution_count": 179,
      "outputs": []
    },
    {
      "cell_type": "code",
      "source": [
        "df_full.columns = df_full.columns.str.replace('.', '_', regex=False).str.lower()\n"
      ],
      "metadata": {
        "id": "DI49bK1IttbW"
      },
      "execution_count": 180,
      "outputs": []
    },
    {
      "cell_type": "markdown",
      "source": [
        "📊 Carga e análise\n"
      ],
      "metadata": {
        "id": "MQdeQSj5WfjG"
      }
    },
    {
      "cell_type": "code",
      "source": [
        "df_full.describe(include='all')\n"
      ],
      "metadata": {
        "colab": {
          "base_uri": "https://localhost:8080/",
          "height": 478
        },
        "id": "_Ny2HRVoWk26",
        "outputId": "fb36d725-9978-4a21-dd26-438465d698ef"
      },
      "execution_count": 181,
      "outputs": [
        {
          "output_type": "execute_result",
          "data": {
            "text/plain": [
              "        customerid        churn       gender  seniorcitizen      partner  \\\n",
              "count         7267  7043.000000  7267.000000    7267.000000  7267.000000   \n",
              "unique        7267          NaN          NaN            NaN          NaN   \n",
              "top     9995-HOTOH          NaN          NaN            NaN          NaN   \n",
              "freq             1          NaN          NaN            NaN          NaN   \n",
              "mean           NaN     0.265370     0.494289       0.162653     0.484106   \n",
              "std            NaN     0.441561     0.500002       0.369074     0.499782   \n",
              "min            NaN     0.000000     0.000000       0.000000     0.000000   \n",
              "25%            NaN     0.000000     0.000000       0.000000     0.000000   \n",
              "50%            NaN     0.000000     0.000000       0.000000     0.000000   \n",
              "75%            NaN     1.000000     1.000000       0.000000     1.000000   \n",
              "max            NaN     1.000000     1.000000       1.000000     1.000000   \n",
              "\n",
              "         dependents       tenure  paperlessbilling  charges_monthly  \\\n",
              "count   7267.000000  7267.000000       7267.000000      7267.000000   \n",
              "unique          NaN          NaN               NaN              NaN   \n",
              "top             NaN          NaN               NaN              NaN   \n",
              "freq            NaN          NaN               NaN              NaN   \n",
              "mean       0.300124    32.346498          0.593230        64.720098   \n",
              "std        0.458343    24.571773          0.491265        30.129572   \n",
              "min        0.000000     0.000000          0.000000        18.250000   \n",
              "25%        0.000000     9.000000          0.000000        35.425000   \n",
              "50%        0.000000    29.000000          1.000000        70.300000   \n",
              "75%        1.000000    55.000000          1.000000        89.875000   \n",
              "max        1.000000    72.000000          1.000000       118.750000   \n",
              "\n",
              "       charges_total  ...  streamingtv  streamingmovies  contas_diarias  \\\n",
              "count           7267  ...  5686.000000      5686.000000     7267.000000   \n",
              "unique          6531  ...          NaN              NaN             NaN   \n",
              "top             20.2  ...          NaN              NaN             NaN   \n",
              "freq              11  ...          NaN              NaN             NaN   \n",
              "mean             NaN  ...     0.490679         0.495251        2.157292   \n",
              "std              NaN  ...     0.499957         0.500021        1.004407   \n",
              "min              NaN  ...     0.000000         0.000000        0.610000   \n",
              "25%              NaN  ...     0.000000         0.000000        1.180000   \n",
              "50%              NaN  ...     0.000000         0.000000        2.340000   \n",
              "75%              NaN  ...     1.000000         1.000000        2.995000   \n",
              "max              NaN  ...     1.000000         1.000000        3.960000   \n",
              "\n",
              "        contract_one year  contract_two year  \\\n",
              "count                7267               7267   \n",
              "unique                  2                  2   \n",
              "top                 False              False   \n",
              "freq                 5748               5524   \n",
              "mean                  NaN                NaN   \n",
              "std                   NaN                NaN   \n",
              "min                   NaN                NaN   \n",
              "25%                   NaN                NaN   \n",
              "50%                   NaN                NaN   \n",
              "75%                   NaN                NaN   \n",
              "max                   NaN                NaN   \n",
              "\n",
              "        paymentmethod_credit card (automatic)  paymentmethod_electronic check  \\\n",
              "count                                    7267                            7267   \n",
              "unique                                      2                               2   \n",
              "top                                     False                           False   \n",
              "freq                                     5699                            4822   \n",
              "mean                                      NaN                             NaN   \n",
              "std                                       NaN                             NaN   \n",
              "min                                       NaN                             NaN   \n",
              "25%                                       NaN                             NaN   \n",
              "50%                                       NaN                             NaN   \n",
              "75%                                       NaN                             NaN   \n",
              "max                                       NaN                             NaN   \n",
              "\n",
              "        paymentmethod_mailed check  internetservice_fiber optic  \\\n",
              "count                         7267                         7267   \n",
              "unique                           2                            2   \n",
              "top                          False                        False   \n",
              "freq                          5602                         4069   \n",
              "mean                           NaN                          NaN   \n",
              "std                            NaN                          NaN   \n",
              "min                            NaN                          NaN   \n",
              "25%                            NaN                          NaN   \n",
              "50%                            NaN                          NaN   \n",
              "75%                            NaN                          NaN   \n",
              "max                            NaN                          NaN   \n",
              "\n",
              "       internetservice_no  \n",
              "count                7267  \n",
              "unique                  2  \n",
              "top                 False  \n",
              "freq                 5686  \n",
              "mean                  NaN  \n",
              "std                   NaN  \n",
              "min                   NaN  \n",
              "25%                   NaN  \n",
              "50%                   NaN  \n",
              "75%                   NaN  \n",
              "max                   NaN  \n",
              "\n",
              "[11 rows x 26 columns]"
            ],
            "text/html": [
              "\n",
              "  <div id=\"df-0e86ea9a-3b0d-4ea0-acec-fc5e115a3d97\" class=\"colab-df-container\">\n",
              "    <div>\n",
              "<style scoped>\n",
              "    .dataframe tbody tr th:only-of-type {\n",
              "        vertical-align: middle;\n",
              "    }\n",
              "\n",
              "    .dataframe tbody tr th {\n",
              "        vertical-align: top;\n",
              "    }\n",
              "\n",
              "    .dataframe thead th {\n",
              "        text-align: right;\n",
              "    }\n",
              "</style>\n",
              "<table border=\"1\" class=\"dataframe\">\n",
              "  <thead>\n",
              "    <tr style=\"text-align: right;\">\n",
              "      <th></th>\n",
              "      <th>customerid</th>\n",
              "      <th>churn</th>\n",
              "      <th>gender</th>\n",
              "      <th>seniorcitizen</th>\n",
              "      <th>partner</th>\n",
              "      <th>dependents</th>\n",
              "      <th>tenure</th>\n",
              "      <th>paperlessbilling</th>\n",
              "      <th>charges_monthly</th>\n",
              "      <th>charges_total</th>\n",
              "      <th>...</th>\n",
              "      <th>streamingtv</th>\n",
              "      <th>streamingmovies</th>\n",
              "      <th>contas_diarias</th>\n",
              "      <th>contract_one year</th>\n",
              "      <th>contract_two year</th>\n",
              "      <th>paymentmethod_credit card (automatic)</th>\n",
              "      <th>paymentmethod_electronic check</th>\n",
              "      <th>paymentmethod_mailed check</th>\n",
              "      <th>internetservice_fiber optic</th>\n",
              "      <th>internetservice_no</th>\n",
              "    </tr>\n",
              "  </thead>\n",
              "  <tbody>\n",
              "    <tr>\n",
              "      <th>count</th>\n",
              "      <td>7267</td>\n",
              "      <td>7043.000000</td>\n",
              "      <td>7267.000000</td>\n",
              "      <td>7267.000000</td>\n",
              "      <td>7267.000000</td>\n",
              "      <td>7267.000000</td>\n",
              "      <td>7267.000000</td>\n",
              "      <td>7267.000000</td>\n",
              "      <td>7267.000000</td>\n",
              "      <td>7267</td>\n",
              "      <td>...</td>\n",
              "      <td>5686.000000</td>\n",
              "      <td>5686.000000</td>\n",
              "      <td>7267.000000</td>\n",
              "      <td>7267</td>\n",
              "      <td>7267</td>\n",
              "      <td>7267</td>\n",
              "      <td>7267</td>\n",
              "      <td>7267</td>\n",
              "      <td>7267</td>\n",
              "      <td>7267</td>\n",
              "    </tr>\n",
              "    <tr>\n",
              "      <th>unique</th>\n",
              "      <td>7267</td>\n",
              "      <td>NaN</td>\n",
              "      <td>NaN</td>\n",
              "      <td>NaN</td>\n",
              "      <td>NaN</td>\n",
              "      <td>NaN</td>\n",
              "      <td>NaN</td>\n",
              "      <td>NaN</td>\n",
              "      <td>NaN</td>\n",
              "      <td>6531</td>\n",
              "      <td>...</td>\n",
              "      <td>NaN</td>\n",
              "      <td>NaN</td>\n",
              "      <td>NaN</td>\n",
              "      <td>2</td>\n",
              "      <td>2</td>\n",
              "      <td>2</td>\n",
              "      <td>2</td>\n",
              "      <td>2</td>\n",
              "      <td>2</td>\n",
              "      <td>2</td>\n",
              "    </tr>\n",
              "    <tr>\n",
              "      <th>top</th>\n",
              "      <td>9995-HOTOH</td>\n",
              "      <td>NaN</td>\n",
              "      <td>NaN</td>\n",
              "      <td>NaN</td>\n",
              "      <td>NaN</td>\n",
              "      <td>NaN</td>\n",
              "      <td>NaN</td>\n",
              "      <td>NaN</td>\n",
              "      <td>NaN</td>\n",
              "      <td>20.2</td>\n",
              "      <td>...</td>\n",
              "      <td>NaN</td>\n",
              "      <td>NaN</td>\n",
              "      <td>NaN</td>\n",
              "      <td>False</td>\n",
              "      <td>False</td>\n",
              "      <td>False</td>\n",
              "      <td>False</td>\n",
              "      <td>False</td>\n",
              "      <td>False</td>\n",
              "      <td>False</td>\n",
              "    </tr>\n",
              "    <tr>\n",
              "      <th>freq</th>\n",
              "      <td>1</td>\n",
              "      <td>NaN</td>\n",
              "      <td>NaN</td>\n",
              "      <td>NaN</td>\n",
              "      <td>NaN</td>\n",
              "      <td>NaN</td>\n",
              "      <td>NaN</td>\n",
              "      <td>NaN</td>\n",
              "      <td>NaN</td>\n",
              "      <td>11</td>\n",
              "      <td>...</td>\n",
              "      <td>NaN</td>\n",
              "      <td>NaN</td>\n",
              "      <td>NaN</td>\n",
              "      <td>5748</td>\n",
              "      <td>5524</td>\n",
              "      <td>5699</td>\n",
              "      <td>4822</td>\n",
              "      <td>5602</td>\n",
              "      <td>4069</td>\n",
              "      <td>5686</td>\n",
              "    </tr>\n",
              "    <tr>\n",
              "      <th>mean</th>\n",
              "      <td>NaN</td>\n",
              "      <td>0.265370</td>\n",
              "      <td>0.494289</td>\n",
              "      <td>0.162653</td>\n",
              "      <td>0.484106</td>\n",
              "      <td>0.300124</td>\n",
              "      <td>32.346498</td>\n",
              "      <td>0.593230</td>\n",
              "      <td>64.720098</td>\n",
              "      <td>NaN</td>\n",
              "      <td>...</td>\n",
              "      <td>0.490679</td>\n",
              "      <td>0.495251</td>\n",
              "      <td>2.157292</td>\n",
              "      <td>NaN</td>\n",
              "      <td>NaN</td>\n",
              "      <td>NaN</td>\n",
              "      <td>NaN</td>\n",
              "      <td>NaN</td>\n",
              "      <td>NaN</td>\n",
              "      <td>NaN</td>\n",
              "    </tr>\n",
              "    <tr>\n",
              "      <th>std</th>\n",
              "      <td>NaN</td>\n",
              "      <td>0.441561</td>\n",
              "      <td>0.500002</td>\n",
              "      <td>0.369074</td>\n",
              "      <td>0.499782</td>\n",
              "      <td>0.458343</td>\n",
              "      <td>24.571773</td>\n",
              "      <td>0.491265</td>\n",
              "      <td>30.129572</td>\n",
              "      <td>NaN</td>\n",
              "      <td>...</td>\n",
              "      <td>0.499957</td>\n",
              "      <td>0.500021</td>\n",
              "      <td>1.004407</td>\n",
              "      <td>NaN</td>\n",
              "      <td>NaN</td>\n",
              "      <td>NaN</td>\n",
              "      <td>NaN</td>\n",
              "      <td>NaN</td>\n",
              "      <td>NaN</td>\n",
              "      <td>NaN</td>\n",
              "    </tr>\n",
              "    <tr>\n",
              "      <th>min</th>\n",
              "      <td>NaN</td>\n",
              "      <td>0.000000</td>\n",
              "      <td>0.000000</td>\n",
              "      <td>0.000000</td>\n",
              "      <td>0.000000</td>\n",
              "      <td>0.000000</td>\n",
              "      <td>0.000000</td>\n",
              "      <td>0.000000</td>\n",
              "      <td>18.250000</td>\n",
              "      <td>NaN</td>\n",
              "      <td>...</td>\n",
              "      <td>0.000000</td>\n",
              "      <td>0.000000</td>\n",
              "      <td>0.610000</td>\n",
              "      <td>NaN</td>\n",
              "      <td>NaN</td>\n",
              "      <td>NaN</td>\n",
              "      <td>NaN</td>\n",
              "      <td>NaN</td>\n",
              "      <td>NaN</td>\n",
              "      <td>NaN</td>\n",
              "    </tr>\n",
              "    <tr>\n",
              "      <th>25%</th>\n",
              "      <td>NaN</td>\n",
              "      <td>0.000000</td>\n",
              "      <td>0.000000</td>\n",
              "      <td>0.000000</td>\n",
              "      <td>0.000000</td>\n",
              "      <td>0.000000</td>\n",
              "      <td>9.000000</td>\n",
              "      <td>0.000000</td>\n",
              "      <td>35.425000</td>\n",
              "      <td>NaN</td>\n",
              "      <td>...</td>\n",
              "      <td>0.000000</td>\n",
              "      <td>0.000000</td>\n",
              "      <td>1.180000</td>\n",
              "      <td>NaN</td>\n",
              "      <td>NaN</td>\n",
              "      <td>NaN</td>\n",
              "      <td>NaN</td>\n",
              "      <td>NaN</td>\n",
              "      <td>NaN</td>\n",
              "      <td>NaN</td>\n",
              "    </tr>\n",
              "    <tr>\n",
              "      <th>50%</th>\n",
              "      <td>NaN</td>\n",
              "      <td>0.000000</td>\n",
              "      <td>0.000000</td>\n",
              "      <td>0.000000</td>\n",
              "      <td>0.000000</td>\n",
              "      <td>0.000000</td>\n",
              "      <td>29.000000</td>\n",
              "      <td>1.000000</td>\n",
              "      <td>70.300000</td>\n",
              "      <td>NaN</td>\n",
              "      <td>...</td>\n",
              "      <td>0.000000</td>\n",
              "      <td>0.000000</td>\n",
              "      <td>2.340000</td>\n",
              "      <td>NaN</td>\n",
              "      <td>NaN</td>\n",
              "      <td>NaN</td>\n",
              "      <td>NaN</td>\n",
              "      <td>NaN</td>\n",
              "      <td>NaN</td>\n",
              "      <td>NaN</td>\n",
              "    </tr>\n",
              "    <tr>\n",
              "      <th>75%</th>\n",
              "      <td>NaN</td>\n",
              "      <td>1.000000</td>\n",
              "      <td>1.000000</td>\n",
              "      <td>0.000000</td>\n",
              "      <td>1.000000</td>\n",
              "      <td>1.000000</td>\n",
              "      <td>55.000000</td>\n",
              "      <td>1.000000</td>\n",
              "      <td>89.875000</td>\n",
              "      <td>NaN</td>\n",
              "      <td>...</td>\n",
              "      <td>1.000000</td>\n",
              "      <td>1.000000</td>\n",
              "      <td>2.995000</td>\n",
              "      <td>NaN</td>\n",
              "      <td>NaN</td>\n",
              "      <td>NaN</td>\n",
              "      <td>NaN</td>\n",
              "      <td>NaN</td>\n",
              "      <td>NaN</td>\n",
              "      <td>NaN</td>\n",
              "    </tr>\n",
              "    <tr>\n",
              "      <th>max</th>\n",
              "      <td>NaN</td>\n",
              "      <td>1.000000</td>\n",
              "      <td>1.000000</td>\n",
              "      <td>1.000000</td>\n",
              "      <td>1.000000</td>\n",
              "      <td>1.000000</td>\n",
              "      <td>72.000000</td>\n",
              "      <td>1.000000</td>\n",
              "      <td>118.750000</td>\n",
              "      <td>NaN</td>\n",
              "      <td>...</td>\n",
              "      <td>1.000000</td>\n",
              "      <td>1.000000</td>\n",
              "      <td>3.960000</td>\n",
              "      <td>NaN</td>\n",
              "      <td>NaN</td>\n",
              "      <td>NaN</td>\n",
              "      <td>NaN</td>\n",
              "      <td>NaN</td>\n",
              "      <td>NaN</td>\n",
              "      <td>NaN</td>\n",
              "    </tr>\n",
              "  </tbody>\n",
              "</table>\n",
              "<p>11 rows × 26 columns</p>\n",
              "</div>\n",
              "    <div class=\"colab-df-buttons\">\n",
              "\n",
              "  <div class=\"colab-df-container\">\n",
              "    <button class=\"colab-df-convert\" onclick=\"convertToInteractive('df-0e86ea9a-3b0d-4ea0-acec-fc5e115a3d97')\"\n",
              "            title=\"Convert this dataframe to an interactive table.\"\n",
              "            style=\"display:none;\">\n",
              "\n",
              "  <svg xmlns=\"http://www.w3.org/2000/svg\" height=\"24px\" viewBox=\"0 -960 960 960\">\n",
              "    <path d=\"M120-120v-720h720v720H120Zm60-500h600v-160H180v160Zm220 220h160v-160H400v160Zm0 220h160v-160H400v160ZM180-400h160v-160H180v160Zm440 0h160v-160H620v160ZM180-180h160v-160H180v160Zm440 0h160v-160H620v160Z\"/>\n",
              "  </svg>\n",
              "    </button>\n",
              "\n",
              "  <style>\n",
              "    .colab-df-container {\n",
              "      display:flex;\n",
              "      gap: 12px;\n",
              "    }\n",
              "\n",
              "    .colab-df-convert {\n",
              "      background-color: #E8F0FE;\n",
              "      border: none;\n",
              "      border-radius: 50%;\n",
              "      cursor: pointer;\n",
              "      display: none;\n",
              "      fill: #1967D2;\n",
              "      height: 32px;\n",
              "      padding: 0 0 0 0;\n",
              "      width: 32px;\n",
              "    }\n",
              "\n",
              "    .colab-df-convert:hover {\n",
              "      background-color: #E2EBFA;\n",
              "      box-shadow: 0px 1px 2px rgba(60, 64, 67, 0.3), 0px 1px 3px 1px rgba(60, 64, 67, 0.15);\n",
              "      fill: #174EA6;\n",
              "    }\n",
              "\n",
              "    .colab-df-buttons div {\n",
              "      margin-bottom: 4px;\n",
              "    }\n",
              "\n",
              "    [theme=dark] .colab-df-convert {\n",
              "      background-color: #3B4455;\n",
              "      fill: #D2E3FC;\n",
              "    }\n",
              "\n",
              "    [theme=dark] .colab-df-convert:hover {\n",
              "      background-color: #434B5C;\n",
              "      box-shadow: 0px 1px 3px 1px rgba(0, 0, 0, 0.15);\n",
              "      filter: drop-shadow(0px 1px 2px rgba(0, 0, 0, 0.3));\n",
              "      fill: #FFFFFF;\n",
              "    }\n",
              "  </style>\n",
              "\n",
              "    <script>\n",
              "      const buttonEl =\n",
              "        document.querySelector('#df-0e86ea9a-3b0d-4ea0-acec-fc5e115a3d97 button.colab-df-convert');\n",
              "      buttonEl.style.display =\n",
              "        google.colab.kernel.accessAllowed ? 'block' : 'none';\n",
              "\n",
              "      async function convertToInteractive(key) {\n",
              "        const element = document.querySelector('#df-0e86ea9a-3b0d-4ea0-acec-fc5e115a3d97');\n",
              "        const dataTable =\n",
              "          await google.colab.kernel.invokeFunction('convertToInteractive',\n",
              "                                                    [key], {});\n",
              "        if (!dataTable) return;\n",
              "\n",
              "        const docLinkHtml = 'Like what you see? Visit the ' +\n",
              "          '<a target=\"_blank\" href=https://colab.research.google.com/notebooks/data_table.ipynb>data table notebook</a>'\n",
              "          + ' to learn more about interactive tables.';\n",
              "        element.innerHTML = '';\n",
              "        dataTable['output_type'] = 'display_data';\n",
              "        await google.colab.output.renderOutput(dataTable, element);\n",
              "        const docLink = document.createElement('div');\n",
              "        docLink.innerHTML = docLinkHtml;\n",
              "        element.appendChild(docLink);\n",
              "      }\n",
              "    </script>\n",
              "  </div>\n",
              "\n",
              "\n",
              "    <div id=\"df-1f3f7c8f-c149-408f-9071-46b90158e5ae\">\n",
              "      <button class=\"colab-df-quickchart\" onclick=\"quickchart('df-1f3f7c8f-c149-408f-9071-46b90158e5ae')\"\n",
              "                title=\"Suggest charts\"\n",
              "                style=\"display:none;\">\n",
              "\n",
              "<svg xmlns=\"http://www.w3.org/2000/svg\" height=\"24px\"viewBox=\"0 0 24 24\"\n",
              "     width=\"24px\">\n",
              "    <g>\n",
              "        <path d=\"M19 3H5c-1.1 0-2 .9-2 2v14c0 1.1.9 2 2 2h14c1.1 0 2-.9 2-2V5c0-1.1-.9-2-2-2zM9 17H7v-7h2v7zm4 0h-2V7h2v10zm4 0h-2v-4h2v4z\"/>\n",
              "    </g>\n",
              "</svg>\n",
              "      </button>\n",
              "\n",
              "<style>\n",
              "  .colab-df-quickchart {\n",
              "      --bg-color: #E8F0FE;\n",
              "      --fill-color: #1967D2;\n",
              "      --hover-bg-color: #E2EBFA;\n",
              "      --hover-fill-color: #174EA6;\n",
              "      --disabled-fill-color: #AAA;\n",
              "      --disabled-bg-color: #DDD;\n",
              "  }\n",
              "\n",
              "  [theme=dark] .colab-df-quickchart {\n",
              "      --bg-color: #3B4455;\n",
              "      --fill-color: #D2E3FC;\n",
              "      --hover-bg-color: #434B5C;\n",
              "      --hover-fill-color: #FFFFFF;\n",
              "      --disabled-bg-color: #3B4455;\n",
              "      --disabled-fill-color: #666;\n",
              "  }\n",
              "\n",
              "  .colab-df-quickchart {\n",
              "    background-color: var(--bg-color);\n",
              "    border: none;\n",
              "    border-radius: 50%;\n",
              "    cursor: pointer;\n",
              "    display: none;\n",
              "    fill: var(--fill-color);\n",
              "    height: 32px;\n",
              "    padding: 0;\n",
              "    width: 32px;\n",
              "  }\n",
              "\n",
              "  .colab-df-quickchart:hover {\n",
              "    background-color: var(--hover-bg-color);\n",
              "    box-shadow: 0 1px 2px rgba(60, 64, 67, 0.3), 0 1px 3px 1px rgba(60, 64, 67, 0.15);\n",
              "    fill: var(--button-hover-fill-color);\n",
              "  }\n",
              "\n",
              "  .colab-df-quickchart-complete:disabled,\n",
              "  .colab-df-quickchart-complete:disabled:hover {\n",
              "    background-color: var(--disabled-bg-color);\n",
              "    fill: var(--disabled-fill-color);\n",
              "    box-shadow: none;\n",
              "  }\n",
              "\n",
              "  .colab-df-spinner {\n",
              "    border: 2px solid var(--fill-color);\n",
              "    border-color: transparent;\n",
              "    border-bottom-color: var(--fill-color);\n",
              "    animation:\n",
              "      spin 1s steps(1) infinite;\n",
              "  }\n",
              "\n",
              "  @keyframes spin {\n",
              "    0% {\n",
              "      border-color: transparent;\n",
              "      border-bottom-color: var(--fill-color);\n",
              "      border-left-color: var(--fill-color);\n",
              "    }\n",
              "    20% {\n",
              "      border-color: transparent;\n",
              "      border-left-color: var(--fill-color);\n",
              "      border-top-color: var(--fill-color);\n",
              "    }\n",
              "    30% {\n",
              "      border-color: transparent;\n",
              "      border-left-color: var(--fill-color);\n",
              "      border-top-color: var(--fill-color);\n",
              "      border-right-color: var(--fill-color);\n",
              "    }\n",
              "    40% {\n",
              "      border-color: transparent;\n",
              "      border-right-color: var(--fill-color);\n",
              "      border-top-color: var(--fill-color);\n",
              "    }\n",
              "    60% {\n",
              "      border-color: transparent;\n",
              "      border-right-color: var(--fill-color);\n",
              "    }\n",
              "    80% {\n",
              "      border-color: transparent;\n",
              "      border-right-color: var(--fill-color);\n",
              "      border-bottom-color: var(--fill-color);\n",
              "    }\n",
              "    90% {\n",
              "      border-color: transparent;\n",
              "      border-bottom-color: var(--fill-color);\n",
              "    }\n",
              "  }\n",
              "</style>\n",
              "\n",
              "      <script>\n",
              "        async function quickchart(key) {\n",
              "          const quickchartButtonEl =\n",
              "            document.querySelector('#' + key + ' button');\n",
              "          quickchartButtonEl.disabled = true;  // To prevent multiple clicks.\n",
              "          quickchartButtonEl.classList.add('colab-df-spinner');\n",
              "          try {\n",
              "            const charts = await google.colab.kernel.invokeFunction(\n",
              "                'suggestCharts', [key], {});\n",
              "          } catch (error) {\n",
              "            console.error('Error during call to suggestCharts:', error);\n",
              "          }\n",
              "          quickchartButtonEl.classList.remove('colab-df-spinner');\n",
              "          quickchartButtonEl.classList.add('colab-df-quickchart-complete');\n",
              "        }\n",
              "        (() => {\n",
              "          let quickchartButtonEl =\n",
              "            document.querySelector('#df-1f3f7c8f-c149-408f-9071-46b90158e5ae button');\n",
              "          quickchartButtonEl.style.display =\n",
              "            google.colab.kernel.accessAllowed ? 'block' : 'none';\n",
              "        })();\n",
              "      </script>\n",
              "    </div>\n",
              "\n",
              "    </div>\n",
              "  </div>\n"
            ],
            "application/vnd.google.colaboratory.intrinsic+json": {
              "type": "dataframe"
            }
          },
          "metadata": {},
          "execution_count": 181
        }
      ]
    },
    {
      "cell_type": "code",
      "source": [
        "import matplotlib.pyplot as plt\n",
        "\n",
        "# Recriando uma coluna 'contract' interpretada a partir das dummies\n",
        "def get_tipo_contrato(row):\n",
        "    if row['contract_one year'] == 1:\n",
        "        return 'One year'\n",
        "    elif row['contract_two year'] == 1:\n",
        "        return 'Two year'\n",
        "    else:\n",
        "        return 'Month-to-month'\n",
        "\n",
        "df_full['contract_label'] = df_full.apply(get_tipo_contrato, axis=1)\n",
        "\n",
        "# Agora, agrupamos corretamente para o gráfico\n",
        "contrato = df_full.groupby(['contract_label', 'churn']).size().unstack()\n",
        "contrato.plot(kind='bar', stacked=False)\n",
        "plt.title('Evasão por tipo de contrato')\n",
        "plt.xlabel('Tipo de Contrato')\n",
        "plt.ylabel('Número de Clientes')\n",
        "plt.legend(title='Churn')\n",
        "plt.xticks(rotation=0)\n",
        "plt.tight_layout()\n",
        "plt.show()\n"
      ],
      "metadata": {
        "colab": {
          "base_uri": "https://localhost:8080/",
          "height": 487
        },
        "id": "um5aQRp8urJR",
        "outputId": "3bc6ef8a-2b40-41c3-b9c5-3f1f268f6f2c"
      },
      "execution_count": 187,
      "outputs": [
        {
          "output_type": "display_data",
          "data": {
            "text/plain": [
              "<Figure size 640x480 with 1 Axes>"
            ],
            "image/png": "[encoded data removed]"
          },
          "metadata": {}
        }
      ]
    },
    {
      "cell_type": "code",
      "source": [
        "churn_counts = df_full['churn'].value_counts()\n",
        "plt.bar(['Permaneceu', 'Evadido'], churn_counts, color=['green', 'red'])\n",
        "plt.title('Distribuição Geral do Churn')\n",
        "plt.ylabel('Número de Clientes')\n",
        "plt.show()\n"
      ],
      "metadata": {
        "colab": {
          "base_uri": "https://localhost:8080/",
          "height": 452
        },
        "id": "0w_fUIY6vOmY",
        "outputId": "2f4a589e-3be4-4993-8d24-12aae47aafb3"
      },
      "execution_count": 188,
      "outputs": [
        {
          "output_type": "display_data",
          "data": {
            "text/plain": [
              "<Figure size 640x480 with 1 Axes>"
            ],
            "image/png": "[encoded data removed]"
          },
          "metadata": {}
        }
      ]
    },
    {
      "cell_type": "code",
      "source": [
        "import matplotlib.pyplot as plt\n",
        "\n",
        "genero = df_full.groupby(['gender', 'churn']).size().unstack()\n",
        "genero.plot(kind='bar', stacked=False, color=['green', 'red'])\n",
        "plt.title('Churn por Gênero')\n",
        "plt.xlabel('Gênero')\n",
        "plt.ylabel('Número de Clientes')\n",
        "plt.legend(title='Churn', labels=['Permaneceu', 'Evadido'])\n",
        "plt.xticks(rotation=0)\n",
        "plt.tight_layout()\n",
        "plt.show()\n"
      ],
      "metadata": {
        "colab": {
          "base_uri": "https://localhost:8080/",
          "height": 487
        },
        "id": "2bHYY4QbvRPq",
        "outputId": "5d0a52cc-a492-492a-e51a-a541fb91e7ec"
      },
      "execution_count": 189,
      "outputs": [
        {
          "output_type": "display_data",
          "data": {
            "text/plain": [
              "<Figure size 640x480 with 1 Axes>"
            ],
            "image/png": "[encoded data removed]"
          },
          "metadata": {}
        }
      ]
    },
    {
      "cell_type": "code",
      "source": [
        "# Contrato já reconstruído com contract_label\n",
        "contrato = df_full.groupby(['contract_label', 'churn']).size().unstack()\n",
        "\n",
        "contrato.plot(kind='bar', color=['green', 'red'])\n",
        "plt.title('Churn por Tipo de Contrato')\n",
        "plt.xlabel('Tipo de Contrato')\n",
        "plt.ylabel('Número de Clientes')\n",
        "plt.legend(title='Churn', labels=['Permaneceu', 'Evadido'])\n",
        "plt.xticks(rotation=0)\n",
        "plt.tight_layout()\n",
        "plt.show()\n"
      ],
      "metadata": {
        "colab": {
          "base_uri": "https://localhost:8080/",
          "height": 487
        },
        "id": "-OvKAcVzvuiy",
        "outputId": "a64e4d9c-1d3b-474a-cb11-bbcea75cefe8"
      },
      "execution_count": 190,
      "outputs": [
        {
          "output_type": "display_data",
          "data": {
            "text/plain": [
              "<Figure size 640x480 with 1 Axes>"
            ],
            "image/png": "[encoded data removed]"
          },
          "metadata": {}
        }
      ]
    },
    {
      "cell_type": "code",
      "source": [
        "def get_pagamento(row):\n",
        "    if row.get('paymentmethod_bank transfer (automatic)', 0) == 1:\n",
        "        return 'Bank Transfer'\n",
        "    elif row.get('paymentmethod_credit card (automatic)', 0) == 1:\n",
        "        return 'Credit Card'\n",
        "    elif row.get('paymentmethod_electronic check', 0) == 1:\n",
        "        return 'Electronic Check'\n",
        "    else:\n",
        "        return 'Mailed Check'\n",
        "\n",
        "df_full['payment_label'] = df_full.apply(get_pagamento, axis=1)\n",
        "\n",
        "# Agrupar e plotar\n",
        "pagamento = df_full.groupby(['payment_label', 'churn']).size().unstack()\n",
        "\n",
        "pagamento.plot(kind='bar', color=['green', 'red'])\n",
        "plt.title('Churn por Método de Pagamento')\n",
        "plt.xlabel('Método de Pagamento')\n",
        "plt.ylabel('Número de Clientes')\n",
        "plt.legend(title='Churn', labels=['Permaneceu', 'Evadido'])\n",
        "plt.xticks(rotation=15)\n",
        "plt.tight_layout()\n",
        "plt.show()\n"
      ],
      "metadata": {
        "colab": {
          "base_uri": "https://localhost:8080/",
          "height": 487
        },
        "id": "eat0dvijvyJh",
        "outputId": "64aa5bea-8a5b-40e0-821a-ff0df5134755"
      },
      "execution_count": 191,
      "outputs": [
        {
          "output_type": "display_data",
          "data": {
            "text/plain": [
              "<Figure size 640x480 with 1 Axes>"
            ],
            "image/png": "[encoded data removed]"
          },
          "metadata": {}
        }
      ]
    },
    {
      "cell_type": "code",
      "source": [
        "streaming = df_full.groupby(['streamingtv', 'churn']).size().unstack()\n",
        "\n",
        "streaming.plot(kind='bar', color=['green', 'red'])\n",
        "plt.title('Churn por Assinatura de StreamingTV')\n",
        "plt.xlabel('StreamingTV Ativo')\n",
        "plt.ylabel('Número de Clientes')\n",
        "plt.legend(title='Churn', labels=['Permaneceu', 'Evadido'])\n",
        "plt.xticks(rotation=0)\n",
        "plt.tight_layout()\n",
        "plt.show()\n"
      ],
      "metadata": {
        "colab": {
          "base_uri": "https://localhost:8080/",
          "height": 487
        },
        "id": "pdk8Hr-Ev7Zr",
        "outputId": "92a72fe8-cb00-4023-e2a7-c748996ad70f"
      },
      "execution_count": 192,
      "outputs": [
        {
          "output_type": "display_data",
          "data": {
            "text/plain": [
              "<Figure size 640x480 with 1 Axes>"
            ],
            "image/png": "[encoded data removed]"
          },
          "metadata": {}
        }
      ]
    },
    {
      "cell_type": "code",
      "source": [
        "def get_internet_tipo(row):\n",
        "    if row.get('internetservice_dsl', 0) == 1:\n",
        "        return 'DSL'\n",
        "    elif row.get('internetservice_fiber optic', 0) == 1:\n",
        "        return 'Fiber Optic'\n",
        "    else:\n",
        "        return 'No Internet'\n",
        "\n",
        "df_full['internet_label'] = df_full.apply(get_internet_tipo, axis=1)\n",
        "\n",
        "internet = df_full.groupby(['internet_label', 'churn']).size().unstack()\n",
        "\n",
        "internet.plot(kind='bar', color=['green', 'red'])\n",
        "plt.title('Churn por Tipo de Internet')\n",
        "plt.xlabel('Tipo de Internet')\n",
        "plt.ylabel('Número de Clientes')\n",
        "plt.legend(title='Churn', labels=['Permaneceu', 'Evadido'])\n",
        "plt.xticks(rotation=0)\n",
        "plt.tight_layout()\n",
        "plt.show()\n"
      ],
      "metadata": {
        "colab": {
          "base_uri": "https://localhost:8080/",
          "height": 487
        },
        "id": "2eHhW74Nv9Qd",
        "outputId": "57a402ce-e06e-47b1-cbea-c8d74eb7e3b7"
      },
      "execution_count": 193,
      "outputs": [
        {
          "output_type": "display_data",
          "data": {
            "text/plain": [
              "<Figure size 640x480 with 1 Axes>"
            ],
            "image/png": "[encoded data removed]"
          },
          "metadata": {}
        }
      ]
    },
    {
      "cell_type": "markdown",
      "source": [
        "EXTRA"
      ],
      "metadata": {
        "id": "h6ZCMdYewYsI"
      }
    },
    {
      "cell_type": "code",
      "source": [
        "df_full = df_full[df_full['churn'].notna()]\n"
      ],
      "metadata": {
        "id": "Z3jmEt_FwZZ9"
      },
      "execution_count": 195,
      "outputs": []
    },
    {
      "cell_type": "code",
      "source": [
        "correlacao = df_full.corr(numeric_only=True)\n"
      ],
      "metadata": {
        "id": "HnyODOovwmWr"
      },
      "execution_count": 197,
      "outputs": []
    },
    {
      "cell_type": "code",
      "source": [
        "correlacao['churn'].sort_values(ascending=False)\n"
      ],
      "metadata": {
        "colab": {
          "base_uri": "https://localhost:8080/",
          "height": 837
        },
        "id": "jGAU2zWawsDJ",
        "outputId": "818a7bc2-e048-4e03-ddfd-464d4ff96adb"
      },
      "execution_count": 198,
      "outputs": [
        {
          "output_type": "execute_result",
          "data": {
            "text/plain": [
              "churn                                    1.000000\n",
              "internetservice_fiber optic              0.308020\n",
              "paymentmethod_electronic check           0.301919\n",
              "contas_diarias                           0.193412\n",
              "charges_monthly                          0.193356\n",
              "paperlessbilling                         0.191825\n",
              "seniorcitizen                            0.150889\n",
              "multiplelines                            0.040207\n",
              "phoneservice                             0.011942\n",
              "gender                                   0.008612\n",
              "streamingtv                             -0.037057\n",
              "streamingmovies                         -0.040132\n",
              "paymentmethod_mailed check              -0.091683\n",
              "paymentmethod_credit card (automatic)   -0.134302\n",
              "partner                                 -0.150448\n",
              "dependents                              -0.164221\n",
              "deviceprotection                        -0.177125\n",
              "contract_one year                       -0.177820\n",
              "onlinebackup                            -0.196061\n",
              "internetservice_no                      -0.227890\n",
              "techsupport                             -0.274422\n",
              "onlinesecurity                          -0.280816\n",
              "contract_two year                       -0.302253\n",
              "tenure                                  -0.352229\n",
              "Name: churn, dtype: float64"
            ],
            "text/html": [
              "<div>\n",
              "<style scoped>\n",
              "    .dataframe tbody tr th:only-of-type {\n",
              "        vertical-align: middle;\n",
              "    }\n",
              "\n",
              "    .dataframe tbody tr th {\n",
              "        vertical-align: top;\n",
              "    }\n",
              "\n",
              "    .dataframe thead th {\n",
              "        text-align: right;\n",
              "    }\n",
              "</style>\n",
              "<table border=\"1\" class=\"dataframe\">\n",
              "  <thead>\n",
              "    <tr style=\"text-align: right;\">\n",
              "      <th></th>\n",
              "      <th>churn</th>\n",
              "    </tr>\n",
              "  </thead>\n",
              "  <tbody>\n",
              "    <tr>\n",
              "      <th>churn</th>\n",
              "      <td>1.000000</td>\n",
              "    </tr>\n",
              "    <tr>\n",
              "      <th>internetservice_fiber optic</th>\n",
              "      <td>0.308020</td>\n",
              "    </tr>\n",
              "    <tr>\n",
              "      <th>paymentmethod_electronic check</th>\n",
              "      <td>0.301919</td>\n",
              "    </tr>\n",
              "    <tr>\n",
              "      <th>contas_diarias</th>\n",
              "      <td>0.193412</td>\n",
              "    </tr>\n",
              "    <tr>\n",
              "      <th>charges_monthly</th>\n",
              "      <td>0.193356</td>\n",
              "    </tr>\n",
              "    <tr>\n",
              "      <th>paperlessbilling</th>\n",
              "      <td>0.191825</td>\n",
              "    </tr>\n",
              "    <tr>\n",
              "      <th>seniorcitizen</th>\n",
              "      <td>0.150889</td>\n",
              "    </tr>\n",
              "    <tr>\n",
              "      <th>multiplelines</th>\n",
              "      <td>0.040207</td>\n",
              "    </tr>\n",
              "    <tr>\n",
              "      <th>phoneservice</th>\n",
              "      <td>0.011942</td>\n",
              "    </tr>\n",
              "    <tr>\n",
              "      <th>gender</th>\n",
              "      <td>0.008612</td>\n",
              "    </tr>\n",
              "    <tr>\n",
              "      <th>streamingtv</th>\n",
              "      <td>-0.037057</td>\n",
              "    </tr>\n",
              "    <tr>\n",
              "      <th>streamingmovies</th>\n",
              "      <td>-0.040132</td>\n",
              "    </tr>\n",
              "    <tr>\n",
              "      <th>paymentmethod_mailed check</th>\n",
              "      <td>-0.091683</td>\n",
              "    </tr>\n",
              "    <tr>\n",
              "      <th>paymentmethod_credit card (automatic)</th>\n",
              "      <td>-0.134302</td>\n",
              "    </tr>\n",
              "    <tr>\n",
              "      <th>partner</th>\n",
              "      <td>-0.150448</td>\n",
              "    </tr>\n",
              "    <tr>\n",
              "      <th>dependents</th>\n",
              "      <td>-0.164221</td>\n",
              "    </tr>\n",
              "    <tr>\n",
              "      <th>deviceprotection</th>\n",
              "      <td>-0.177125</td>\n",
              "    </tr>\n",
              "    <tr>\n",
              "      <th>contract_one year</th>\n",
              "      <td>-0.177820</td>\n",
              "    </tr>\n",
              "    <tr>\n",
              "      <th>onlinebackup</th>\n",
              "      <td>-0.196061</td>\n",
              "    </tr>\n",
              "    <tr>\n",
              "      <th>internetservice_no</th>\n",
              "      <td>-0.227890</td>\n",
              "    </tr>\n",
              "    <tr>\n",
              "      <th>techsupport</th>\n",
              "      <td>-0.274422</td>\n",
              "    </tr>\n",
              "    <tr>\n",
              "      <th>onlinesecurity</th>\n",
              "      <td>-0.280816</td>\n",
              "    </tr>\n",
              "    <tr>\n",
              "      <th>contract_two year</th>\n",
              "      <td>-0.302253</td>\n",
              "    </tr>\n",
              "    <tr>\n",
              "      <th>tenure</th>\n",
              "      <td>-0.352229</td>\n",
              "    </tr>\n",
              "  </tbody>\n",
              "</table>\n",
              "</div><br><label><b>dtype:</b> float64</label>"
            ]
          },
          "metadata": {},
          "execution_count": 198
        }
      ]
    },
    {
      "cell_type": "code",
      "source": [
        "plt.scatter(df_full['contas_diarias'], df_full['churn'], alpha=0.3)\n",
        "plt.title('Churn vs Contas Diárias')\n",
        "plt.xlabel('Contas Diárias (R$)')\n",
        "plt.ylabel('Churn (0 = Não, 1 = Sim)')\n",
        "plt.show()\n"
      ],
      "metadata": {
        "colab": {
          "base_uri": "https://localhost:8080/",
          "height": 472
        },
        "id": "fyQlShvZwuXX",
        "outputId": "34781d41-3e3e-467d-beea-7e51c4956cbf"
      },
      "execution_count": 199,
      "outputs": [
        {
          "output_type": "display_data",
          "data": {
            "text/plain": [
              "<Figure size 640x480 with 1 Axes>"
            ],
            "image/png": "[encoded data removed]"
          },
          "metadata": {}
        }
      ]
    },
    {
      "cell_type": "code",
      "source": [
        "servicos = ['phoneservice', 'multiplelines', 'onlinesecurity', 'onlinebackup',\n",
        "            'deviceprotection', 'techsupport', 'streamingtv', 'streamingmovies']\n",
        "\n",
        "df_full['qtd_servicos'] = df_full[servicos].sum(axis=1)\n"
      ],
      "metadata": {
        "id": "m3TtkUT7wxhT"
      },
      "execution_count": 200,
      "outputs": []
    },
    {
      "cell_type": "code",
      "source": [
        "print(df_full[['qtd_servicos', 'churn']].corr())\n"
      ],
      "metadata": {
        "colab": {
          "base_uri": "https://localhost:8080/"
        },
        "id": "cna3vgwMwzYl",
        "outputId": "d07aa4ca-d779-40a6-cbfb-df65af411811"
      },
      "execution_count": 201,
      "outputs": [
        {
          "output_type": "stream",
          "name": "stdout",
          "text": [
            "              qtd_servicos     churn\n",
            "qtd_servicos      1.000000 -0.067264\n",
            "churn            -0.067264  1.000000\n"
          ]
        }
      ]
    },
    {
      "cell_type": "code",
      "source": [
        "plt.scatter(df_full['qtd_servicos'], df_full['churn'], alpha=0.3)\n",
        "plt.title('Churn vs Quantidade de Serviços Contratados')\n",
        "plt.xlabel('Qtd de Serviços')\n",
        "plt.ylabel('Churn (0 = Não, 1 = Sim)')\n",
        "plt.show()\n"
      ],
      "metadata": {
        "colab": {
          "base_uri": "https://localhost:8080/",
          "height": 472
        },
        "id": "vWG55a9Zw0xe",
        "outputId": "13bf9287-bbd7-40e2-ee1d-21358e2f9867"
      },
      "execution_count": 202,
      "outputs": [
        {
          "output_type": "display_data",
          "data": {
            "text/plain": [
              "<Figure size 640x480 with 1 Axes>"
            ],
            "image/png": "[encoded data removed]"
          },
          "metadata": {}
        }
      ]
    },
    {
      "cell_type": "markdown",
      "source": [
        "📄Relatorio Final\n"
      ],
      "metadata": {
        "id": "3mXNzx3aWixL"
      }
    },
    {
      "cell_type": "code",
      "source": [],
      "metadata": {
        "id": "nmqSeQMaWlZa"
      },
      "execution_count": null,
      "outputs": []
    }
  ]
}